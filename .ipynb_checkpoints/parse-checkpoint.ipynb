{
 "cells": [
  {
   "cell_type": "markdown",
   "metadata": {},
   "source": [
    "# Parsing, similarity and LDA"
   ]
  },
  {
   "cell_type": "code",
   "execution_count": 2,
   "metadata": {
    "collapsed": false
   },
   "outputs": [],
   "source": [
    "\"\"\"\n",
    "Load dependencies\n",
    "\"\"\" \n",
    "\n",
    "try:\n",
    "    from nltk.tokenize import wordpunct_tokenize\n",
    "except Exception:\n",
    "    pass\n",
    "\n",
    "import numpy as np\n",
    "import codecs\n",
    "import nltk\n",
    "import re\n",
    "import csv\n",
    "import json\n",
    "import sys\n",
    "import operator\n",
    "from nltk import PorterStemmer\n",
    "from math import log\n",
    "from collections import Counter\n",
    "import matplotlib\n",
    "import matplotlib.pyplot as plt\n",
    "import pickle\n",
    "import logging\n",
    "import numpy as np\n",
    "from ptm import AuthorTopicModel\n",
    "from ptm.utils import convert_cnt_to_list, get_top_words\n"
   ]
  },
  {
   "cell_type": "code",
   "execution_count": 3,
   "metadata": {
    "collapsed": true
   },
   "outputs": [],
   "source": [
    "class Book():    \n",
    "    \"\"\"\n",
    "    The Doc class represents a class of individual documents\n",
    "    \"\"\"    \n",
    "    def __init__(self, author, title, text):\n",
    "        \n",
    "        content = []\n",
    "        for chap in text:\n",
    "            join_par = ''.join(chap)\n",
    "            content.append(join_par)\n",
    "        \n",
    "        self.author = author\n",
    "        self.title = title\n",
    "        self.text = ''.join(content).lower()\n",
    "        self.tokens = np.array(wordpunct_tokenize(self.text))\n",
    "    \n",
    "    def friendly_string(self):\n",
    "        \"\"\" \n",
    "        Description: generate a friendly string to describe the document\n",
    "        \"\"\"\n",
    "        return \"{0} {1} {2}\".format(self.author, self.title, self.text[1:20])\n",
    "        \n",
    "    def token_clean(self,length):\n",
    "        \"\"\" \n",
    "        Description: strip out non-alpha tokens and tokens of length > 'length'\n",
    "        input: length: cut off length \n",
    "        \"\"\"\n",
    "        self.tokens = np.array([t for t in self.tokens if\n",
    "                                (t.isalpha() and len(t) > length)])\n",
    "\n",
    "    def stopword_remove(self, stopwords):\n",
    "        \"\"\"\n",
    "        Description: remove stopwords from tokens.\n",
    "        input: stopwords: a suitable list of stopwords\n",
    "        \"\"\"\n",
    "        self.tokens = np.array([t for t in self.tokens if t not in stopwords])\n",
    "\n",
    "    def stem(self):\n",
    "        \"\"\"\n",
    "        Description: stem tokens with Porter Stemmer.\n",
    "        \"\"\"\n",
    "        self.tokens = np.array([PorterStemmer().stem(t) for t in self.tokens])\n",
    "\n",
    "    def term_vector(self, corpus_token_list):\n",
    "        \"\"\"\n",
    "        Description: generate a term-vector for this document.  The result\n",
    "                     corresponds with a single row of the document-term-matrix\n",
    "                     of the corpus\n",
    "        input: corpus_token_list: a list of tokens from the corpus, a subset\n",
    "                                  of which will be found in this document.\n",
    "        \"\"\"\n",
    "        vector = [None] * len(corpus_token_list)\n",
    "        counter = Counter(self.tokens)\n",
    "        for i in range(len(corpus_token_list)):\n",
    "            count = counter[corpus_token_list[i]]\n",
    "            vector[i] = count\n",
    "\n",
    "        return vector"
   ]
  },
  {
   "cell_type": "code",
   "execution_count": 31,
   "metadata": {
    "collapsed": true
   },
   "outputs": [],
   "source": [
    "class Corpus():\n",
    "    \"\"\"\n",
    "    The Corpus class represents a document collection.\n",
    "    \"\"\"\n",
    "    def __init__(self, doc_data, stopword_file, clean_length):\n",
    "        \"\"\"\n",
    "        Notice that the __init__ method is invoked everytime an object of the\n",
    "        class is instantiated.\n",
    "        \"\"\"\n",
    "        # Initialise documents by invoking the appropriate class\n",
    "        self.docs = [Book(doc[1], doc[0], doc[2]) for doc in doc_data]         \n",
    "        self.N = len(self.docs)\n",
    "        self.clean_length = clean_length\n",
    "        \n",
    "        # Get a list of stopwords\n",
    "        self.create_stopwords(stopword_file, clean_length)\n",
    "        \n",
    "        # Stopword removal, token cleaning and stemming to docs\n",
    "        self.clean_docs(5)\n",
    "        \n",
    "        # Create vocabulary\n",
    "        self.corpus_tokens()\n",
    "        \n",
    "    def clean_docs(self, length):\n",
    "        \"\"\" \n",
    "        Applies stopword removal, token cleaning and stemming to docs.\n",
    "        \"\"\"\n",
    "        for doc in self.docs:\n",
    "            doc.stopword_remove(self.stopwords)\n",
    "            doc.token_clean(length)\n",
    "            doc.stopword_remove(self.stopwords)\n",
    "            doc.stem()        \n",
    "    \n",
    "    def create_stopwords(self, stopword_file, length):\n",
    "        \"\"\"\n",
    "        Description: parses a file of stopwords, removes words of length\n",
    "        'length' and  stems it.\n",
    "        input: length: cutoff length for words\n",
    "               stopword_file: stopwords file to parse\n",
    "        \"\"\"        \n",
    "        with codecs.open(stopword_file, 'r', 'utf-8') as f: raw = f.read()        \n",
    "        self.stopwords = (np.array([PorterStemmer().stem(word) \n",
    "                                    for word in list(raw.splitlines()) if len(word) > length]))\n",
    "             \n",
    "    def corpus_tokens(self):\n",
    "        \"\"\"\n",
    "        Description: create a set of all all tokens or in other words a\n",
    "        vocabulary\n",
    "        \"\"\"        \n",
    "        # Initialise an empty set\n",
    "        self.token_set = set()\n",
    "        for doc in self.docs:\n",
    "            self.token_set = self.token_set.union(doc.tokens) \n",
    "    \n",
    "    def document_term_matrix(self):\n",
    "        \"\"\"\n",
    "        Description: generate the document-term matrix for the corpus\n",
    "        \"\"\"        \n",
    "        result = []\n",
    "        for doc in self.docs:\n",
    "            vector = doc.term_vector(list(self.token_set))\n",
    "            result.append(vector)        \n",
    "        \n",
    "        return result\n",
    "\n",
    "    def tf_idf(self):\n",
    "        \"\"\"\n",
    "        Description: generate the TF-IDF matrix for this corpus\n",
    "        \"\"\"\n",
    "\n",
    "        # Generate a copy of the document-term matrix to work with in this\n",
    "        # function and initialize other local variables.\n",
    "        dt_matrix = self.document_term_matrix()\n",
    "        tf_matrix = []\n",
    "        idf_matrix = []\n",
    "        tf_idf_matrix = []\n",
    "\n",
    "        # Build a term frequency matrix from the document term matrix.\n",
    "        # tf(d,v) = { 0 if x(d,v) = 0, 1 + log(x(d), v) otherwise }\n",
    "        for dt_doc_vector in dt_matrix:\n",
    "            tf_doc_vector = [(0 if x == 0 else 1 + log(x)) for x in dt_doc_vector]\n",
    "            tf_matrix.append(tf_doc_vector)\n",
    "\n",
    "        # Build a document frequency matrix for each term.\n",
    "        # Initialize with zeros.\n",
    "        df_vector = np.zeros(len(self.token_set))\n",
    "        for dt_doc_vector in dt_matrix:\n",
    "            # Increment the counters based on an indicator function which\n",
    "            # is 1 if there is at least one instance of the term in the doc.\n",
    "            df_vector = np.add(df_vector, [int(x > 0) for x in dt_doc_vector])\n",
    "\n",
    "        # Build an inverse document frequency vector.\n",
    "        idf_doc_vector = [log(len(self.docs) / x) for x in df_vector]\n",
    "\n",
    "        # Build the TF-IDF weighting matrix.\n",
    "        for tf_doc_vector in tf_matrix:\n",
    "            tf_idf_vector = np.multiply(tf_doc_vector, idf_doc_vector)\n",
    "            tf_idf_matrix.append(tf_idf_vector)\n",
    "\n",
    "        return tf_idf_matrix\n",
    "\n",
    "    def dict_rank(self, dictionary, use_tf_idf, n):        \n",
    "        \"\"\"\n",
    "        Description: rank the documents in this corpus against the provided\n",
    "        dictionary.  Return the top n documents.\n",
    "        input: dictionary: the dictionary against which to rank the documents\n",
    "               use_tf_idf: True if the TF-IDF matrix is to be used; False if\n",
    "                           the document-term matrix is to be used.\n",
    "               n: the number of top-ranked documents to return\n",
    "        \"\"\"\n",
    "        if (use_tf_idf):\n",
    "            dtm = self.tf_idf()\n",
    "        else:\n",
    "            dtm = self.document_term_matrix()\n",
    "            \n",
    "        # Get rid of words in the document term matrix not in the dictionary\n",
    "        dict_tokens_set = set(item for item in dictionary)\n",
    "        intersection = dict_tokens_set & self.token_set\n",
    "        vec_positions = [int(token in intersection) for token in self.token_set] \n",
    "\n",
    "        # Get the score of each document\n",
    "        sums = np.zeros(len(dtm))\n",
    "        for j in range(len(dtm)):\n",
    "            sums[j] = sum([a * b for a, b in zip(dtm[j], vec_positions)])\n",
    "\n",
    "        # Order them and return the n top documents\n",
    "        order = sorted(range(len(sums)), key = lambda k: sums[k], reverse=True)\n",
    "        ordered_doc_data_n = [None] * len(dtm)\n",
    "        ordered_sums = np.zeros(len(dtm))\n",
    "\n",
    "        counter = 0        \n",
    "        for num in order:\n",
    "            ordered_doc_data_n[counter] = self.docs[num]\n",
    "            ordered_sums[counter] = sums[num]\n",
    "            counter += 1\n",
    "\n",
    "        return zip(ordered_doc_data_n[0:n], ordered_sums[0:n])\n"
   ]
  },
  {
   "cell_type": "markdown",
   "metadata": {},
   "source": [
    "# Data"
   ]
  },
  {
   "cell_type": "code",
   "execution_count": 5,
   "metadata": {
    "collapsed": false
   },
   "outputs": [
    {
     "name": "stdout",
     "output_type": "stream",
     "text": [
      "8\n"
     ]
    }
   ],
   "source": [
    "file_handle = open(\"bookshelf.json\")\n",
    "file_content = file_handle.read()\n",
    "bookshelf = json.loads(file_content)\n",
    "\n",
    "print len(bookshelf)"
   ]
  },
  {
   "cell_type": "code",
   "execution_count": 33,
   "metadata": {
    "collapsed": false
   },
   "outputs": [
    {
     "name": "stdout",
     "output_type": "stream",
     "text": [
      "8\n",
      "The corpus has been loaded with 8 documents.\n"
     ]
    }
   ],
   "source": [
    "# read the bookshelf.json file\n",
    "file_handle = open(\"bookshelf.json\")\n",
    "file_content = file_handle.read()\n",
    "bookshelf = json.loads(file_content)\n",
    "\n",
    "print len(bookshelf)\n",
    "\n",
    "# Instantiate the corpus class\n",
    "#corpus = Corpus(pres_speech_list, './../data/stopwords/stopwords.txt', 2)\n",
    "\n",
    "#print \"The corpus has been loaded with {0} documents.\".format(len(corpus.docs))\n",
    "\n",
    "\n",
    "corpus = Corpus(bookshelf, 'stopwords.txt', 5)\n",
    "\n",
    "print \"The corpus has been loaded with {0} documents.\".format(len(corpus.docs))\n"
   ]
  },
  {
   "cell_type": "markdown",
   "metadata": {},
   "source": [
    "# Similarity"
   ]
  },
  {
   "cell_type": "code",
   "execution_count": 34,
   "metadata": {
    "collapsed": false
   },
   "outputs": [],
   "source": [
    "# print len(corpus.token_set)\n",
    "# print len(corpus.document_term_matrix()[0])\n",
    "\n",
    "def cosine_similarity(v1, v2):\n",
    "    \"\"\"\n",
    "    Calculate the cosine similarity of two vectors (vectors of terms\n",
    "    in a document).\n",
    "    \"\"\"\n",
    "    norm1 = np.linalg.norm(v1)\n",
    "    norm2 = np.linalg.norm(v2)\n",
    "    return np.dot(v1, v2) / (norm1 * norm2)\n",
    "\n",
    "simils = np.full((8, 8), 0)\n",
    "\n",
    "for i in range(8):\n",
    "    for j in range(8):\n",
    "\n",
    "        simils[i][j] = round(cosine_similarity(corpus.document_term_matrix()[i], corpus.document_term_matrix()[j]),2)\n",
    "\n",
    "# print np.array(corpus.document_term_matrix()).shape"
   ]
  },
  {
   "cell_type": "code",
   "execution_count": 24,
   "metadata": {
    "collapsed": false
   },
   "outputs": [
    {
     "data": {
      "text/html": [
       "<div>\n",
       "<table border=\"1\" class=\"dataframe\">\n",
       "  <thead>\n",
       "    <tr style=\"text-align: right;\">\n",
       "      <th></th>\n",
       "      <th>Smith</th>\n",
       "      <th>Marx</th>\n",
       "      <th>Bastiat</th>\n",
       "      <th>Mises</th>\n",
       "      <th>Ricardo</th>\n",
       "      <th>Friedman</th>\n",
       "      <th>Krugman</th>\n",
       "      <th>Mankiw</th>\n",
       "    </tr>\n",
       "  </thead>\n",
       "  <tbody>\n",
       "    <tr>\n",
       "      <th>Smith</th>\n",
       "      <td>1.00</td>\n",
       "      <td>0.53</td>\n",
       "      <td>0.38</td>\n",
       "      <td>0.36</td>\n",
       "      <td>0.69</td>\n",
       "      <td>0.18</td>\n",
       "      <td>0.23</td>\n",
       "      <td>0.17</td>\n",
       "    </tr>\n",
       "    <tr>\n",
       "      <th>Marx</th>\n",
       "      <td>0.53</td>\n",
       "      <td>1.00</td>\n",
       "      <td>0.58</td>\n",
       "      <td>0.51</td>\n",
       "      <td>0.79</td>\n",
       "      <td>0.30</td>\n",
       "      <td>0.27</td>\n",
       "      <td>0.24</td>\n",
       "    </tr>\n",
       "    <tr>\n",
       "      <th>Bastiat</th>\n",
       "      <td>0.38</td>\n",
       "      <td>0.58</td>\n",
       "      <td>1.00</td>\n",
       "      <td>0.60</td>\n",
       "      <td>0.53</td>\n",
       "      <td>0.37</td>\n",
       "      <td>0.39</td>\n",
       "      <td>0.39</td>\n",
       "    </tr>\n",
       "    <tr>\n",
       "      <th>Mises</th>\n",
       "      <td>0.36</td>\n",
       "      <td>0.51</td>\n",
       "      <td>0.60</td>\n",
       "      <td>1.00</td>\n",
       "      <td>0.50</td>\n",
       "      <td>0.51</td>\n",
       "      <td>0.38</td>\n",
       "      <td>0.44</td>\n",
       "    </tr>\n",
       "    <tr>\n",
       "      <th>Ricardo</th>\n",
       "      <td>0.69</td>\n",
       "      <td>0.79</td>\n",
       "      <td>0.53</td>\n",
       "      <td>0.50</td>\n",
       "      <td>1.00</td>\n",
       "      <td>0.27</td>\n",
       "      <td>0.28</td>\n",
       "      <td>0.20</td>\n",
       "    </tr>\n",
       "    <tr>\n",
       "      <th>Friedman</th>\n",
       "      <td>0.18</td>\n",
       "      <td>0.30</td>\n",
       "      <td>0.37</td>\n",
       "      <td>0.51</td>\n",
       "      <td>0.27</td>\n",
       "      <td>1.00</td>\n",
       "      <td>0.34</td>\n",
       "      <td>0.47</td>\n",
       "    </tr>\n",
       "    <tr>\n",
       "      <th>Krugman</th>\n",
       "      <td>0.23</td>\n",
       "      <td>0.27</td>\n",
       "      <td>0.39</td>\n",
       "      <td>0.38</td>\n",
       "      <td>0.28</td>\n",
       "      <td>0.34</td>\n",
       "      <td>1.00</td>\n",
       "      <td>0.40</td>\n",
       "    </tr>\n",
       "    <tr>\n",
       "      <th>Mankiw</th>\n",
       "      <td>0.17</td>\n",
       "      <td>0.24</td>\n",
       "      <td>0.39</td>\n",
       "      <td>0.44</td>\n",
       "      <td>0.20</td>\n",
       "      <td>0.47</td>\n",
       "      <td>0.40</td>\n",
       "      <td>1.00</td>\n",
       "    </tr>\n",
       "  </tbody>\n",
       "</table>\n",
       "</div>"
      ],
      "text/plain": [
       "          Smith  Marx  Bastiat  Mises  Ricardo  Friedman  Krugman  Mankiw\n",
       "Smith      1.00  0.53     0.38   0.36     0.69      0.18     0.23    0.17\n",
       "Marx       0.53  1.00     0.58   0.51     0.79      0.30     0.27    0.24\n",
       "Bastiat    0.38  0.58     1.00   0.60     0.53      0.37     0.39    0.39\n",
       "Mises      0.36  0.51     0.60   1.00     0.50      0.51     0.38    0.44\n",
       "Ricardo    0.69  0.79     0.53   0.50     1.00      0.27     0.28    0.20\n",
       "Friedman   0.18  0.30     0.37   0.51     0.27      1.00     0.34    0.47\n",
       "Krugman    0.23  0.27     0.39   0.38     0.28      0.34     1.00    0.40\n",
       "Mankiw     0.17  0.24     0.39   0.44     0.20      0.47     0.40    1.00"
      ]
     },
     "execution_count": 24,
     "metadata": {},
     "output_type": "execute_result"
    }
   ],
   "source": [
    "# np.full((8, 8), 0)\n",
    "import pandas\n",
    "\n",
    "pandas.DataFrame(simils, [\"Smith\", \"Marx\", \"Bastiat\", \"Mises\", \"Ricardo\", \"Friedman\", \"Krugman\", \"Mankiw\"], \n",
    "                      [\"Smith\", \"Marx\", \"Bastiat\", \"Mises\", \"Ricardo\", \"Friedman\", \"Krugman\", \"Mankiw\"])\n"
   ]
  },
  {
   "cell_type": "markdown",
   "metadata": {},
   "source": [
    "# LDA: Topic"
   ]
  },
  {
   "cell_type": "code",
   "execution_count": 35,
   "metadata": {
    "collapsed": false
   },
   "outputs": [
    {
     "data": {
      "text/plain": [
       "<lda.lda.LDA instance at 0x10d4a2f38>"
      ]
     },
     "execution_count": 35,
     "metadata": {},
     "output_type": "execute_result"
    }
   ],
   "source": [
    "import lda\n",
    "\n",
    "#X = lda.datasets.load_reuters()\n",
    "#vocab = lda.datasets.load_reuters_vocab()\n",
    "#titles = lda.datasets.load_reuters_titles()\n",
    "\n",
    "X = np.array(corpus.document_term_matrix())\n",
    "vocab = corpus.token_set\n",
    "titles = [\"Smith\", \"Marx\", \"Bastiat\", \"Mises\", \"Ricardo\", \"Friedman\", \"Krugman\", \"Mankiw\"]\n",
    "\n",
    "#X.shape\n",
    "\n",
    "#X.sum()\n",
    "\n",
    "model = lda.LDA(n_topics=10, n_iter=1500, random_state=1)\n",
    "model.fit(X)  # model.fit_transform(X) is also available"
   ]
  },
  {
   "cell_type": "code",
   "execution_count": 37,
   "metadata": {
    "collapsed": false
   },
   "outputs": [
    {
     "name": "stdout",
     "output_type": "stream",
     "text": [
      "Topic 0: produc commod profit quantiti increas capit employ countri\n",
      "Topic 1: exchang econom demand credit price commod monetari interest\n",
      "Topic 2: gener peopl anoth carri public accord befor increas\n",
      "Topic 3: labour countri greater employ differ produc silver therefor\n",
      "Topic 4: polici monetari incom region economi nextgraph econom interest\n",
      "Topic 5: labour commod capit capitalist surplu produc circul machineri\n",
      "Topic 6: differ exchang increas consequ system capit chang amount\n",
      "Topic 7: natur foreign interest countri suppos littl govern maintain\n",
      "Topic 8: product therefor process social work industri factori becom\n",
      "Topic 9: franc produc peopl becaus principl nation protect result\n"
     ]
    }
   ],
   "source": [
    "vocab = list(corpus.token_set)\n",
    "topic_word = model.topic_word_  # model.components_ also works\n",
    "n_top_words = 8\n",
    "for i, topic_dist in enumerate(topic_word):\n",
    "    topic_words = np.array(vocab)[np.argsort(topic_dist)][:-(n_top_words+1):-1]\n",
    "    print('Topic {}: {}'.format(i, ' '.join(topic_words)))"
   ]
  },
  {
   "cell_type": "code",
   "execution_count": 39,
   "metadata": {
    "collapsed": false,
    "scrolled": true
   },
   "outputs": [
    {
     "name": "stdout",
     "output_type": "stream",
     "text": [
      "Smith (top topic: 5)\n",
      "Marx (top topic: 3)\n",
      "Bastiat (top topic: 9)\n",
      "Mises (top topic: 1)\n",
      "Ricardo (top topic: 0)\n",
      "Friedman (top topic: 4)\n",
      "Krugman (top topic: 4)\n",
      "Mankiw (top topic: 4)\n"
     ]
    }
   ],
   "source": [
    "doc_topic = model.doc_topic_\n",
    "for i in range(8):    \n",
    "    print(\"{} (top topic: {})\".format(titles[i], doc_topic[i].argmax()))"
   ]
  },
  {
   "cell_type": "markdown",
   "metadata": {},
   "source": [
    "# LDA: Author and Topic"
   ]
  },
  {
   "cell_type": "code",
   "execution_count": 40,
   "metadata": {
    "collapsed": false
   },
   "outputs": [
    {
     "data": {
      "text/plain": [
       "10337"
      ]
     },
     "execution_count": 40,
     "metadata": {},
     "output_type": "execute_result"
    }
   ],
   "source": [
    "len(corpus.token_set)"
   ]
  },
  {
   "cell_type": "code",
   "execution_count": 41,
   "metadata": {
    "collapsed": false
   },
   "outputs": [],
   "source": [
    "X = np.array(corpus.document_term_matrix())\n",
    "vocab = list(corpus.token_set)\n",
    "\n",
    "titles = [\"Smith\", \"Marx\", \"Bastiat\", \"Mises\", \"Ricardo\", \"Friedman\", \"Krugman\", \"Mankiw\"]\n",
    "\n",
    "sums = X.sum(axis=0)\n",
    "include = []\n",
    "\n",
    "for i in range(len(sums)):\n",
    "    if sums[i] > 1:\n",
    "        include.append(i)\n",
    "\n",
    "sX = X[:,include]\n",
    "#print(list(vocab)[0,2])\n",
    "\n",
    "svocab = []\n",
    "\n",
    "for i in include:\n",
    "    word = vocab[i]\n",
    "    #print word\n",
    "    svocab.append(word)\n"
   ]
  },
  {
   "cell_type": "code",
   "execution_count": 42,
   "metadata": {
    "collapsed": false
   },
   "outputs": [],
   "source": [
    "# translate every document into list of word indices with respect to svocab (subsetted vocabulary)\n",
    "\n",
    "new_X = []\n",
    "for i in range(len(X)):\n",
    "    row = sX[i]\n",
    "    new_row = []\n",
    "    \n",
    "    for j in range(len(row)):\n",
    "        if row[j] == 0:\n",
    "            next\n",
    "        else:\n",
    "            new_row = new_row + [j]*row[j]\n",
    "    \n",
    "    new_X.append(new_row)\n",
    "\n",
    "# print np.array(new_X)\n",
    "\n"
   ]
  },
  {
   "cell_type": "code",
   "execution_count": 45,
   "metadata": {
    "collapsed": false
   },
   "outputs": [],
   "source": [
    "logger = logging.getLogger('AuthorTopicModel')\n",
    "logger.propagate=False"
   ]
  },
  {
   "cell_type": "code",
   "execution_count": 46,
   "metadata": {
    "collapsed": false
   },
   "outputs": [
    {
     "data": {
      "text/plain": [
       "('en_US', 'UTF-8')"
      ]
     },
     "execution_count": 46,
     "metadata": {},
     "output_type": "execute_result"
    }
   ],
   "source": [
    "import locale\n",
    "locale.getdefaultlocale() # should give ('en_US', 'UTF-8')"
   ]
  },
  {
   "cell_type": "code",
   "execution_count": 51,
   "metadata": {
    "collapsed": false
   },
   "outputs": [
    {
     "name": "stdout",
     "output_type": "stream",
     "text": [
      "8\n"
     ]
    }
   ],
   "source": [
    "##################### WITH NEW DATA\n",
    "doc_author = np.array([[0],[1],[2],[3],[4],[5],[6],[7]])\n",
    "author_name = [\"Smith\", \"Marx\", \"Bastiat\", \"Mises\", \"Ricardo\", \"Friedman\", \"Krugman\", \"Mankiw\"]\n",
    "voca = svocab\n",
    "\n",
    "corpus = new_X\n",
    "n_doc = len(corpus)\n",
    "n_topic = 10\n",
    "n_author = 8\n",
    "n_voca = len(voca)\n",
    "\n",
    "print(n_doc)\n",
    "\n",
    "######################"
   ]
  },
  {
   "cell_type": "code",
   "execution_count": null,
   "metadata": {
    "collapsed": false
   },
   "outputs": [
    {
     "name": "stderr",
     "output_type": "stream",
     "text": [
      "2016-06-24 19:05:30 INFO:AuthorTopicModel:[INIT] 0\telapsed_time:11.39\tlog_likelihood:-3457982.73\n",
      "2016-06-24 19:05:43 INFO:AuthorTopicModel:[INIT] 1\telapsed_time:12.55\tlog_likelihood:-3401152.48\n",
      "2016-06-24 19:05:56 INFO:AuthorTopicModel:[INIT] 2\telapsed_time:13.30\tlog_likelihood:-3356741.42\n",
      "2016-06-24 19:06:09 INFO:AuthorTopicModel:[INIT] 3\telapsed_time:12.46\tlog_likelihood:-3303519.46\n",
      "2016-06-24 19:06:21 INFO:AuthorTopicModel:[INIT] 4\telapsed_time:12.31\tlog_likelihood:-3219327.82\n",
      "2016-06-24 19:06:34 INFO:AuthorTopicModel:[INIT] 5\telapsed_time:12.62\tlog_likelihood:-3122106.91\n",
      "2016-06-24 19:06:46 INFO:AuthorTopicModel:[INIT] 6\telapsed_time:12.57\tlog_likelihood:-3052359.18\n",
      "2016-06-24 19:06:59 INFO:AuthorTopicModel:[INIT] 7\telapsed_time:12.31\tlog_likelihood:-3007520.51\n",
      "2016-06-24 19:07:11 INFO:AuthorTopicModel:[INIT] 8\telapsed_time:11.98\tlog_likelihood:-2974199.62\n",
      "2016-06-24 19:07:26 INFO:AuthorTopicModel:[INIT] 9\telapsed_time:15.08\tlog_likelihood:-2948910.73\n",
      "2016-06-24 19:07:42 INFO:AuthorTopicModel:[INIT] 10\telapsed_time:16.07\tlog_likelihood:-2926419.45\n",
      "2016-06-24 19:07:54 INFO:AuthorTopicModel:[INIT] 11\telapsed_time:12.72\tlog_likelihood:-2906062.32\n"
     ]
    }
   ],
   "source": [
    "model = AuthorTopicModel(n_doc, n_voca, n_topic, n_author)\n",
    "model.fit(corpus, doc_author, max_iter=max_iter)"
   ]
  },
  {
   "cell_type": "code",
   "execution_count": 139,
   "metadata": {
    "collapsed": false
   },
   "outputs": [
    {
     "name": "stdout",
     "output_type": "stream",
     "text": [
      "('topic ', 0, u'product,becaus,interest,incom,economi,polici,result,principl,gener,franc')\n",
      "('topic ', 1, u'produc,labour,commod,profit,capit,quantiti,employ,increas,product,manufactur')\n",
      "('topic ', 2, u'labour,product,commod,capitalist,surplu,work,capit,therefor,chang,manufactur')\n",
      "('topic ', 3, u'countri,labour,greater,silver,differ,employ,though,therefor,quantiti,manufactur')\n",
      "('topic ', 4, u'peopl,industri,certain,twenti,franc,improv,advantag,nation,branch,render')\n",
      "('topic ', 5, u'nation,noth,system,without,peopl,direct,public,natur,regard,themselv')\n",
      "('topic ', 6, u'produc,industri,anoth,agricultur,consum,natur,number,thing,consequ,amount')\n",
      "('topic ', 7, u'product,capit,social,process,materi,relat,exchang,commod,differ,work')\n",
      "('topic ', 8, u'countri,exchang,capit,quantiti,increas,purchas,foreign,necessari,cannot,demand')\n",
      "('topic ', 9, u'exchang,econom,monetari,credit,market,demand,price,increas,commod,polici')\n"
     ]
    }
   ],
   "source": [
    "for k in range(n_topic):\n",
    "    top_words = get_top_words(model.TW, voca, k, 10)\n",
    "    print('topic ', k , ','.join(top_words))"
   ]
  },
  {
   "cell_type": "code",
   "execution_count": 126,
   "metadata": {
    "collapsed": false
   },
   "outputs": [
    {
     "data": {
      "text/plain": [
       "4"
      ]
     },
     "execution_count": 126,
     "metadata": {},
     "output_type": "execute_result"
    }
   ],
   "source": [
    "2+2"
   ]
  },
  {
   "cell_type": "code",
   "execution_count": 125,
   "metadata": {
    "collapsed": false
   },
   "outputs": [
    {
     "name": "stdout",
     "output_type": "stream",
     "text": [
      "a\n",
      "b\n",
      "c\n",
      "d\n",
      "e\n"
     ]
    }
   ],
   "source": [
    "author_id = 7\n",
    "fig = plt.figure(figsize=(12,6))\n",
    "plt.bar(range(n_topic), model.AT[author_id]/np.sum(model.AT[author_id]))\n",
    "plt.title(author_name[author_id])\n",
    "plt.xticks(np.arange(n_topic)+0.5, ['\\n'.join(get_top_words(model.TW, voca, k, 10)) for k in range(n_topic)])\n",
    "# plt.show()\n"
   ]
  },
  {
   "cell_type": "code",
   "execution_count": 124,
   "metadata": {
    "collapsed": false
   },
   "outputs": [],
   "source": [
    "fig.savefig('foo.png')"
   ]
  },
  {
   "cell_type": "code",
   "execution_count": 127,
   "metadata": {
    "collapsed": true
   },
   "outputs": [],
   "source": [
    "author_id = 1\n",
    "fig = plt.figure(figsize=(12,6))\n",
    "plt.bar(range(n_topic), model.AT[author_id]/np.sum(model.AT[author_id]))\n",
    "plt.title(author_name[author_id])\n",
    "plt.xticks(np.arange(n_topic)+0.5, ['\\n'.join(get_top_words(model.TW, voca, k, 10)) for k in range(n_topic)])\n",
    "fig.savefig('foo.png')"
   ]
  },
  {
   "cell_type": "code",
   "execution_count": null,
   "metadata": {
    "collapsed": true
   },
   "outputs": [],
   "source": []
  }
 ],
 "metadata": {
  "kernelspec": {
   "display_name": "Python 2",
   "language": "python",
   "name": "python2"
  },
  "language_info": {
   "codemirror_mode": {
    "name": "ipython",
    "version": 2
   },
   "file_extension": ".py",
   "mimetype": "text/x-python",
   "name": "python",
   "nbconvert_exporter": "python",
   "pygments_lexer": "ipython2",
   "version": "2.7.11"
  }
 },
 "nbformat": 4,
 "nbformat_minor": 0
}
